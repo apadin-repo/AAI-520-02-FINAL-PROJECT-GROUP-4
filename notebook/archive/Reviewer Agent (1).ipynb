{
 "cells": [
  {
   "cell_type": "code",
   "execution_count": 12,
   "id": "fad01e3c-467d-4676-9b08-b7f29d5d9f2f",
   "metadata": {},
   "outputs": [
    {
     "name": "stdout",
     "output_type": "stream",
     "text": [
      "crewai: 0.41.1\n",
      "langchain: 0.2.13\n",
      "pydantic: 2.8.2\n",
      "pypdf: 4.3.1\n"
     ]
    }
   ],
   "source": [
    "from importlib.metadata import version\n",
    "print(\"crewai:\", version(\"crewai\"))\n",
    "print(\"langchain:\", version(\"langchain\"))\n",
    "print(\"pydantic:\", version(\"pydantic\"))\n",
    "print(\"pypdf:\", version(\"pypdf\"))"
   ]
  },
  {
   "cell_type": "code",
   "execution_count": 13,
   "id": "10310ad7-e8d8-4e9f-8d53-c10305d74fba",
   "metadata": {},
   "outputs": [
    {
     "name": "stdout",
     "output_type": "stream",
     "text": [
      "Using tool decorator from: langchain.tools\n",
      "API key set? True\n"
     ]
    }
   ],
   "source": [
    "import os, re, json, time\n",
    "from pathlib import Path\n",
    "from dataclasses import dataclass\n",
    "from typing import Dict, Any, List\n",
    "\n",
    "import yfinance as yf\n",
    "import pandas as pd\n",
    "import numpy as np\n",
    "import matplotlib.pyplot as plt\n",
    "\n",
    "#Hardcode OpenAI key (not recommended outside testing!)\n",
    "os.environ[\"OPENAI_API_KEY\"] = (I inserted my API Key here)\n",
    "\n",
    "from crewai import Agent, Task, Crew, Process\n",
    "try:\n",
    "    from crewai_tools import tool\n",
    "    TOOL_SOURCE = \"crewai_tools\"\n",
    "except ImportError:\n",
    "    from langchain.tools import tool\n",
    "    TOOL_SOURCE = \"langchain.tools\"\n",
    "\n",
    "print(f\"Using tool decorator from: {TOOL_SOURCE}\")\n",
    "\n",
    "DATA_DIR = Path(\"data\"); DATA_DIR.mkdir(exist_ok=True)\n",
    "OUT_DIR  = Path(\"outputs\"); OUT_DIR.mkdir(exist_ok=True)\n",
    "MEM_DIR  = Path(\"memory\"); MEM_DIR.mkdir(exist_ok=True)\n",
    "\n",
    "print(\"API key set?\", bool(os.getenv(\"OPENAI_API_KEY\")))"
   ]
  },
  {
   "cell_type": "code",
   "execution_count": 14,
   "id": "e9d47f73-f0f8-4e79-b768-290cdb3f8263",
   "metadata": {},
   "outputs": [],
   "source": [
    "#Knowledge Base helpers\n",
    "def _kb_path(ticker: str) -> Path:\n",
    "    p = MEM_DIR / f\"kb_{ticker.upper()}.jsonl\"\n",
    "    p.touch(exist_ok=True)\n",
    "    return p\n",
    "\n",
    "def kb_append_lesson(ticker: str, lesson: dict) -> None:\n",
    "    p = _kb_path(ticker)\n",
    "    with p.open(\"a\", encoding=\"utf-8\") as f:\n",
    "        f.write(json.dumps(lesson, ensure_ascii=False) + \"\\n\")\n",
    "\n",
    "def kb_load_lessons(ticker: str) -> list[dict]:\n",
    "    p = _kb_path(ticker)\n",
    "    out = []\n",
    "    with p.open(\"r\", encoding=\"utf-8\") as f:\n",
    "        for line in f:\n",
    "            line = line.strip()\n",
    "            if line:\n",
    "                out.append(json.loads(line))\n",
    "    return out"
   ]
  },
  {
   "cell_type": "code",
   "execution_count": 15,
   "id": "8c1ce22d-495d-4d68-bcc0-72fbae571996",
   "metadata": {},
   "outputs": [],
   "source": [
    "#Tools\n",
    "@tool\n",
    "def load_kb_lessons_tool(ticker: str) -> str:\n",
    "    \"\"\"Return past one-sentence takeaways (lessons) for a ticker, one per line.\"\"\"\n",
    "    lessons = kb_load_lessons(ticker)\n",
    "    if not lessons:\n",
    "        return \"(no prior lessons)\"\n",
    "    return \"\\n\".join(f\"- {i+1}. {row.get('lesson', '')}\" for i, row in enumerate(lessons))\n",
    "\n",
    "@tool\n",
    "def save_kb_lesson_tool(ticker: str, lesson: str) -> str:\n",
    "    \"\"\"Append a new one-sentence lesson for a ticker to the KB.\"\"\"\n",
    "    kb_append_lesson(ticker, {\"lesson\": lesson, \"ts\": time.time()})\n",
    "    return f\"Saved lesson for {ticker}: {lesson}\"\n",
    "\n",
    "@tool\n",
    "def yf_download_tool(ticker: str, period: str = \"6mo\", interval: str = \"1d\") -> str:\n",
    "    \"\"\"Fetch OHLCV with yfinance and return a compact summary string.\"\"\"\n",
    "    df = yf.download(\n",
    "        ticker, period=period, interval=interval,\n",
    "        progress=False, group_by=\"column\", auto_adjust=True\n",
    "    )\n",
    "    if df.empty:\n",
    "        return f\"{ticker} {period}/{interval}: no data\"\n",
    "\n",
    "    if hasattr(df.columns, \"levels\") and len(getattr(df.columns, \"levels\", [])) > 1:\n",
    "        df.columns = df.columns.get_level_values(0)\n",
    "\n",
    "    try:\n",
    "        avg_close = float(df[\"Close\"].mean())\n",
    "    except Exception:\n",
    "        avg_close = float(df.filter(regex=\"(?i)close\").mean(numeric_only=True).iloc[0])\n",
    "\n",
    "    try:\n",
    "        avg_vol = float(df[\"Volume\"].mean())\n",
    "    except Exception:\n",
    "        avg_vol = float(df.filter(regex=\"(?i)volume\").mean(numeric_only=True).iloc[0])\n",
    "\n",
    "    return (\n",
    "        f\"{ticker} {period}/{interval}: rows={len(df)}, \"\n",
    "        f\"avgClose={avg_close:.2f}, avgVol={avg_vol:.0f}\"\n",
    "    )\n",
    "\n",
    "@tool\n",
    "def series_snapshot_tool(ticker: str, period: str = \"1y\", interval: str = \"1d\") -> str:\n",
    "    \"\"\"Return a terse snapshot of recent trend for Close price.\"\"\"\n",
    "    df = yf.download(\n",
    "        ticker, period=period, interval=interval,\n",
    "        progress=False, group_by=\"column\", auto_adjust=True\n",
    "    )\n",
    "    if df.empty:\n",
    "        return f\"{ticker} trend: no data\"\n",
    "\n",
    "    if hasattr(df.columns, \"levels\") and len(getattr(df.columns, \"levels\", [])) > 1:\n",
    "        df.columns = df.columns.get_level_values(0)\n",
    "\n",
    "    closes = df[\"Close\"].astype(float)\n",
    "    ret = (closes.iloc[-1] / closes.iloc[0]) - 1.0\n",
    "    return f\"{ticker} trend over {period} @ {interval}: {ret:+.1%}\""
   ]
  },
  {
   "cell_type": "code",
   "execution_count": 16,
   "id": "49b6eac9-84b9-4e3b-a393-58ff0e06b51f",
   "metadata": {},
   "outputs": [
    {
     "name": "stdout",
     "output_type": "stream",
     "text": [
      "Reviewer agent ready.\n"
     ]
    }
   ],
   "source": [
    "#Agent\n",
    "reviewer = Agent(\n",
    "    role=\"Reviewer\",\n",
    "    goal=(\n",
    "        \"Judge the Researcher’s draft strictly, assign a single 1–5 rank, \"\n",
    "        \"provide rationale, and produce a concrete improvement plan for the Optimizer. \"\n",
    "        \"Store a concise lesson.\"\n",
    "    ),\n",
    "    backstory=(\n",
    "        \"A meticulous investment research QA who grades with a tough rubric \"\n",
    "        \"and writes crisp, actionable feedback.\"\n",
    "    ),\n",
    "    tools=[load_kb_lessons_tool, save_kb_lesson_tool, yf_download_tool, series_snapshot_tool],\n",
    "    allow_delegation=False,\n",
    "    verbose=True,\n",
    ")\n",
    "print(\"Reviewer agent ready.\")"
   ]
  },
  {
   "cell_type": "code",
   "execution_count": 17,
   "id": "d1160ba7-4a81-4a4e-97a4-1c03dfe31040",
   "metadata": {},
   "outputs": [
    {
     "name": "stdout",
     "output_type": "stream",
     "text": [
      "Task ready.\n"
     ]
    }
   ],
   "source": [
    "#Task\n",
    "REVIEW_PROMPT = \"\"\"You are reviewing an investment research draft.\n",
    "\n",
    "Inputs:\n",
    "- Ticker: {ticker}\n",
    "- Draft:\n",
    "{draft_text}\n",
    "\n",
    "Context (tools available):\n",
    "- You may load prior one-sentence takeaways (lessons) for this ticker.\n",
    "- You may fetch a quick price/volume summary and a simple trend snapshot.\n",
    "\n",
    "Your job:\n",
    "1) Assign a grade (integer, 1–5) for overall quality (correctness, completeness, clarity).\n",
    "2) Write a short rationale (2–5 crisp sentences).\n",
    "3) Give a concrete improvement plan (3–6 bullet steps).\n",
    "4) Write exactly one sentence 'lesson' (to save for future reviewers).\n",
    "\n",
    "Output: STRICT JSON with keys:\n",
    "{{\n",
    "  \"grade\": 1-5 integer,\n",
    "  \"rationale\": \"string\",\n",
    "  \"plan\": [\"step 1\", \"step 2\", ...],\n",
    "  \"lesson\": \"one sentence\"\n",
    "}}\n",
    "\n",
    "Be strict and specific. No text outside the JSON.\n",
    "\"\"\"\n",
    "\n",
    "review_task = Task(\n",
    "    description=REVIEW_PROMPT,\n",
    "    agent=reviewer,\n",
    "    expected_output='Strict JSON with keys grade, rationale, plan, lesson.',\n",
    "    output_file=str(OUT_DIR / \"reviewer_output.json\"),\n",
    ")\n",
    "print(\"Task ready.\")"
   ]
  },
  {
   "cell_type": "code",
   "execution_count": 18,
   "id": "e50fd890-f698-4311-9783-e951f77c7548",
   "metadata": {},
   "outputs": [
    {
     "name": "stderr",
     "output_type": "stream",
     "text": [
      "2025-10-03 06:42:04,701 - 27728 - __init__.py-__init__:537 - WARNING: Overriding of current TracerProvider is not allowed\n"
     ]
    },
    {
     "name": "stdout",
     "output_type": "stream",
     "text": [
      "Crew ready.\n"
     ]
    }
   ],
   "source": [
    "#Crew\n",
    "crew = Crew(\n",
    "    agents=[reviewer],\n",
    "    tasks=[review_task],\n",
    "    process=Process.sequential,\n",
    "    verbose=True,\n",
    ")\n",
    "print(\"Crew ready.\")"
   ]
  },
  {
   "cell_type": "code",
   "execution_count": 19,
   "id": "44337385-f759-4229-989b-b0f0293d60c0",
   "metadata": {},
   "outputs": [
    {
     "name": "stdout",
     "output_type": "stream",
     "text": [
      "AAPL 6mo/1d: rows=127, avgClose=214.76, avgVol=59001226\n",
      "AAPL trend over 1y @ 1d: +14.8%\n",
      "\u001b[1m\u001b[95m [2025-10-03 06:42:05][DEBUG]: == Working Agent: Reviewer\u001b[00m\n",
      "\u001b[1m\u001b[95m [2025-10-03 06:42:05][INFO]: == Starting Task: You are reviewing an investment research draft.\n",
      "\n",
      "Inputs:\n",
      "- Ticker: AAPL\n",
      "- Draft:\n",
      "Apple’s services revenue growth is accelerating while hardware cycles normalize.\n",
      "We expect FY26 EPS upside from margin mix and buybacks. Key risks: China demand and FX.\n",
      "\n",
      "Context (tools available):\n",
      "- You may load prior one-sentence takeaways (lessons) for this ticker.\n",
      "- You may fetch a quick price/volume summary and a simple trend snapshot.\n",
      "\n",
      "Your job:\n",
      "1) Assign a grade (integer, 1–5) for overall quality (correctness, completeness, clarity).\n",
      "2) Write a short rationale (2–5 crisp sentences).\n",
      "3) Give a concrete improvement plan (3–6 bullet steps).\n",
      "4) Write exactly one sentence 'lesson' (to save for future reviewers).\n",
      "\n",
      "Output: STRICT JSON with keys:\n",
      "{\n",
      "  \"grade\": 1-5 integer,\n",
      "  \"rationale\": \"string\",\n",
      "  \"plan\": [\"step 1\", \"step 2\", ...],\n",
      "  \"lesson\": \"one sentence\"\n",
      "}\n",
      "\n",
      "Be strict and specific. No text outside the JSON.\n",
      "\u001b[00m\n",
      "\n",
      "\n",
      "\u001b[1m> Entering new CrewAgentExecutor chain...\u001b[0m\n"
     ]
    },
    {
     "name": "stderr",
     "output_type": "stream",
     "text": [
      "C:\\Users\\tommy\\anaconda3\\envs\\crewai-ml\\Lib\\site-packages\\pydantic\\main.py:1059: PydanticDeprecatedSince20: The `__fields__` attribute is deprecated, use `model_fields` instead. Deprecated in Pydantic V2.0 to be removed in V3.0. See Pydantic V2 Migration Guide at https://errors.pydantic.dev/2.8/migration/\n",
      "  warnings.warn(\n"
     ]
    },
    {
     "name": "stdout",
     "output_type": "stream",
     "text": [
      "\u001b[32;1m\u001b[1;3mThought: I need to load past one-sentence takeaways for Apple (AAPL) to assess the draft based on historical context.\n",
      "\n",
      "Action: load_kb_lessons_tool\n",
      "Action Input: {\"ticker\": \"AAPL\"}\u001b[0m\u001b[95m \n",
      "\n",
      "- 1. Ensure investment research drafts are supported with recent data and comprehensive analysis of market conditions.\n",
      "\u001b[00m\n",
      "\u001b[32;1m\u001b[1;3mThought: I have obtained a prior lesson indicating the importance of using recent data and comprehensive market analysis. Now, I should fetch a recent price/volume summary and trend snapshot for AAPL to evaluate the draft's accuracy and completeness.\n",
      "\n",
      "Action: yf_download_tool\n",
      "Action Input: {\"ticker\": \"AAPL\", \"period\": \"6mo\", \"interval\": \"1d\"}\u001b[0m\u001b[95m \n",
      "\n",
      "AAPL 6mo/1d: rows=127, avgClose=214.76, avgVol=59001387\n",
      "\u001b[00m\n",
      "\u001b[32;1m\u001b[1;3m\u001b[0m\u001b[32;1m\u001b[1;3mThought: I have gathered the necessary information, including past lessons and current data, to evaluate the draft for AAPL.\n",
      "\n",
      "Final Answer: \n",
      "{\n",
      "  \"grade\": 3,\n",
      "  \"rationale\": \"The draft touches on key aspects such as services revenue growth and potential EPS upside from margin mix and buybacks, but lacks specificity in data and a deeper analysis of the mentioned risks. The inclusion of quantitative data and recent trends would enhance its completeness. The connection between risks and their impact on financial metrics is underexplored.\",\n",
      "  \"plan\": [\n",
      "    \"Incorporate recent financial data to substantiate claims about revenue growth and EPS projections.\",\n",
      "    \"Provide a detailed analysis of how China demand and FX risks could specifically impact Apple's financial performance.\",\n",
      "    \"Expand on the hardware cycles normalization and its potential effects on Apple's overall business strategy.\",\n",
      "    \"Include recent trend analysis to support assertions on margin mix and buybacks.\",\n",
      "    \"Ensure clarity by breaking down complex financial concepts into easily understandable terms.\"\n",
      "  ],\n",
      "  \"lesson\": \"Investment drafts should pair qualitative insights with quantitative data to strengthen analysis.\"\n",
      "}\u001b[0m\n",
      "\n",
      "\u001b[1m> Finished chain.\u001b[0m\n",
      "\u001b[1m\u001b[92m [2025-10-03 06:42:23][DEBUG]: == [Reviewer] Task output: {\n",
      "  \"grade\": 3,\n",
      "  \"rationale\": \"The draft touches on key aspects such as services revenue growth and potential EPS upside from margin mix and buybacks, but lacks specificity in data and a deeper analysis of the mentioned risks. The inclusion of quantitative data and recent trends would enhance its completeness. The connection between risks and their impact on financial metrics is underexplored.\",\n",
      "  \"plan\": [\n",
      "    \"Incorporate recent financial data to substantiate claims about revenue growth and EPS projections.\",\n",
      "    \"Provide a detailed analysis of how China demand and FX risks could specifically impact Apple's financial performance.\",\n",
      "    \"Expand on the hardware cycles normalization and its potential effects on Apple's overall business strategy.\",\n",
      "    \"Include recent trend analysis to support assertions on margin mix and buybacks.\",\n",
      "    \"Ensure clarity by breaking down complex financial concepts into easily understandable terms.\"\n",
      "  ],\n",
      "  \"lesson\": \"Investment drafts should pair qualitative insights with quantitative data to strengthen analysis.\"\n",
      "}\n",
      "\n",
      "\u001b[00m\n",
      "\n",
      "--- RAW RESULT ---\n",
      " {\n",
      "  \"grade\": 3,\n",
      "  \"rationale\": \"The draft touches on key aspects such as services revenue growth and potential EPS upside from margin mix and buybacks, but lacks specificity in data and a deeper analysis of the mentioned risks. The inclusion of quantitative data and recent trends would enhance its completeness. The connection between risks and their impact on financial metrics is underexplored.\",\n",
      "  \"plan\": [\n",
      "    \"Incorporate recent financial data to substantiate claims about revenue growth and EPS projections.\",\n",
      "    \"Provide a detailed analysis of how China demand and FX risks could specifically impact Apple's financial performance.\",\n",
      "    \"Expand on the hardware cycles normalization and its potential effects on Apple's overall business strategy.\",\n",
      "    \"Include recent trend analysis to support assertions on margin mix and buybacks.\",\n",
      "    \"Ensure clarity by breaking down complex financial concepts into easily understandable terms.\"\n",
      "  ],\n",
      "  \"lesson\": \"Investment drafts should pair qualitative insights with quantitative data to strengthen analysis.\"\n",
      "}\n"
     ]
    }
   ],
   "source": [
    "#Test run\n",
    "ticker = \"AAPL\"\n",
    "draft_text = \"\"\"Apple’s services revenue growth is accelerating while hardware cycles normalize.\n",
    "We expect FY26 EPS upside from margin mix and buybacks. Key risks: China demand and FX.\"\"\"\n",
    "\n",
    "print(yf_download_tool.func(ticker, \"6mo\", \"1d\"))\n",
    "print(series_snapshot_tool.func(ticker, \"1y\", \"1d\"))\n",
    "\n",
    "result = crew.kickoff(inputs={\"ticker\": ticker, \"draft_text\": draft_text})\n",
    "print(\"\\n--- RAW RESULT ---\\n\", result)"
   ]
  },
  {
   "cell_type": "code",
   "execution_count": 20,
   "id": "4c317652-4f3a-423c-a18e-031504cb3108",
   "metadata": {},
   "outputs": [
    {
     "name": "stdout",
     "output_type": "stream",
     "text": [
      "KB now:\n",
      "- Ensure investment research drafts are supported with recent data and comprehensive analysis of market conditions.\n",
      "- Investment drafts should pair qualitative insights with quantitative data to strengthen analysis.\n"
     ]
    }
   ],
   "source": [
    "#Save lesson from the result JSON and show KB\n",
    "def _extract_json(obj) -> dict:\n",
    "    if isinstance(obj, dict):\n",
    "        return obj\n",
    "    try:\n",
    "        return json.loads(str(obj))\n",
    "    except Exception:\n",
    "        s = str(obj)\n",
    "        start = s.find(\"{\")\n",
    "        end = s.rfind(\"}\")\n",
    "        if start != -1 and end != -1 and end > start:\n",
    "            return json.loads(s[start:end+1])\n",
    "        raise\n",
    "\n",
    "payload = _extract_json(result)\n",
    "lesson = payload.get(\"lesson\", \"\").strip()\n",
    "if lesson:\n",
    "    save_kb_lesson_tool.func(ticker, lesson)\n",
    "    print(\"KB now:\")\n",
    "    for row in kb_load_lessons(ticker):\n",
    "        print(\"-\", row[\"lesson\"])\n",
    "else:\n",
    "    print(\"No 'lesson' field found in the result.\")"
   ]
  },
  {
   "cell_type": "code",
   "execution_count": 21,
   "id": "303740c5-04d9-4420-a48f-5d0b178805ac",
   "metadata": {},
   "outputs": [
    {
     "name": "stdout",
     "output_type": "stream",
     "text": [
      "- 1. Ensure investment research drafts are supported with recent data and comprehensive analysis of market conditions.\n",
      "- 2. Investment drafts should pair qualitative insights with quantitative data to strengthen analysis.\n"
     ]
    }
   ],
   "source": [
    "print(load_kb_lessons_tool.func(ticker))"
   ]
  }
 ],
 "metadata": {
  "kernelspec": {
   "display_name": "Python (.venv)",
   "language": "python",
   "name": ".venv"
  },
  "language_info": {
   "codemirror_mode": {
    "name": "ipython",
    "version": 3
   },
   "file_extension": ".py",
   "mimetype": "text/x-python",
   "name": "python",
   "nbconvert_exporter": "python",
   "pygments_lexer": "ipython3",
   "version": "3.12.4"
  }
 },
 "nbformat": 4,
 "nbformat_minor": 5
}
